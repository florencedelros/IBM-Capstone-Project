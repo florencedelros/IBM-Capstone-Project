{
 "cells": [
  {
   "cell_type": "markdown",
   "metadata": {},
   "source": [
    "# The Battle of Neighborhoods"
   ]
  },
  {
   "cell_type": "markdown",
   "metadata": {},
   "source": [
    "## Data"
   ]
  },
  {
   "cell_type": "markdown",
   "metadata": {},
   "source": [
    "This project makes use of data from four different sources to support our analysis. \n",
    "   \n",
    "#### Neighborhood Coordinates:\n",
    "In order to segment and explore the neighborhoods, we can extract the data of New York City neighborhoods from the [NYU Spatial Data Repository](https://geo.nyu.edu/catalog/nyu_2451_34572). Here, we can obtain:\n",
    "\n",
    "1. Borough\n",
    "2. Neighborhood\n",
    "3. Neighborhood Latitude\n",
    "4. Neighborhood Longitude\n",
    "\n",
    "#### Venues and Places of Interest:\n",
    "One important decision variable of people would be the places of interest around the neighborhood. This can be obtained from the FourSquare API. For each neighborhood, we have chosen a radius of 500 meter. We will be obtaining:\n",
    "\n",
    "1. Neighborhood\n",
    "2. Neighborhood Latitude\n",
    "3. Neighborhood Longitude\n",
    "4. Venue\n",
    "5. Venue Latitude\n",
    "6. Venue Longitude\n",
    "7. Venue Category\n",
    "\n",
    "#### Average Housing Prices:\n",
    "The prices of properties is a major factor in one's decision in moving into a neighborhood. Thus, I extracted this data from [CoreData.nyc](http://app.coredata.nyc/?mlb=true&ntii=&ntr=&mz=14&vtl=https%3A%2F%2Fthefurmancenter.carto.com%2Fu%2Fnyufc%2Fapi%2Fv2%2Fviz%2F98d1f16e-95fd-4e52-a2b1-b7abaf634828%2Fviz.json&mln=false&mlp=true&mlat=40.718&ptsb=&nty=&mb=roadmap&pf=%7B%7D&md=table&mlv=false&mlng=-73.996&btl=Borough&atp=properties) to facilitate in our analysis. We do not require all columns from this dataset. Thus, this will be cleaned and discussed in the next section. We will only be obtaining:\n",
    "\n",
    "1. boro_name\n",
    "2. accessed_value\n",
    "3. res_unit\n",
    "\n",
    "#### Crime Data:\n",
    "Another major deciding factor for many residents are crimes rates within the area. Thus, I have retrieved the NYPD complaints dataset from [NYC OpenData](https://data.cityofnewyork.us/Public-Safety/Crime-Map-/5jvd-shfj). This will give us a basic overview of crimes in boroughs in overall. We do not require all columns from this dataset as well, and thus, will also be cleaned. We will only need:\n",
    "\n",
    "1. BORO_NM\n",
    "2. CMPLNT_NM\n",
    "3. Latitude\n",
    "4. Longitude"
   ]
  }
 ],
 "metadata": {
  "kernelspec": {
   "display_name": "Python",
   "language": "python",
   "name": "conda-env-python-py"
  },
  "language_info": {
   "codemirror_mode": {
    "name": "ipython",
    "version": 3
   },
   "file_extension": ".py",
   "mimetype": "text/x-python",
   "name": "python",
   "nbconvert_exporter": "python",
   "pygments_lexer": "ipython3",
   "version": "3.6.10"
  }
 },
 "nbformat": 4,
 "nbformat_minor": 4
}
