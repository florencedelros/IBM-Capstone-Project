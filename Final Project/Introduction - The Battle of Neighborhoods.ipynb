{
 "cells": [
  {
   "cell_type": "markdown",
   "metadata": {},
   "source": [
    "# The Battle of Neighborhoods"
   ]
  },
  {
   "cell_type": "markdown",
   "metadata": {},
   "source": [
    "## Introduction:"
   ]
  },
  {
   "cell_type": "markdown",
   "metadata": {},
   "source": [
    "Moving to a new city or country is always intimidating, and people may be unsure of their choice of neighborhood to live in. There is a plethora of decision variables one has to consider when choosing the perfect neighborhood. It could be the place interests, food locations, crime rates, housing prices etc. The purpose of this report is to allow people to make smarter and more informed decisions when selecting the neighborhood that is  best fit with their interests, budgets and concerns. \n",
    "\n",
    "With access to databases available on the internet, we are able to extract information relevant to our places of interest. In this project, we will be making use of database website such as Foursquare and other relevant OpenData websites for the information we need. In the end of this report, we should be able to confidently recommend the best neighborhoods in New York City."
   ]
  },
  {
   "cell_type": "markdown",
   "metadata": {},
   "source": [
    "## Location of Choice:"
   ]
  },
  {
   "cell_type": "markdown",
   "metadata": {},
   "source": [
    "In this report, we our focal point will be The Big Apple, New York City. New York City is one the most ethnically diverse, commercially driven and most attractive urban centre in the country. It is not a shock that people would wish to shift to this bustling city. The main purpose of this project is to suggest the best neighborhoods in the city for someone shifting to this state."
   ]
  },
  {
   "cell_type": "markdown",
   "metadata": {},
   "source": [
    "## Interested Audience:"
   ]
  },
  {
   "cell_type": "markdown",
   "metadata": {},
   "source": [
    "The target audience of this project are people migrating to the state of New York City, and are unsure of the neighborhood to buy a property at. These would mainly be people who wish to save as much as they can, but still live wish to enjoy a good lifestyle and ensure their security in their new homes."
   ]
  }
 ],
 "metadata": {
  "kernelspec": {
   "display_name": "Python",
   "language": "python",
   "name": "conda-env-python-py"
  },
  "language_info": {
   "codemirror_mode": {
    "name": "ipython",
    "version": 3
   },
   "file_extension": ".py",
   "mimetype": "text/x-python",
   "name": "python",
   "nbconvert_exporter": "python",
   "pygments_lexer": "ipython3",
   "version": "3.6.10"
  }
 },
 "nbformat": 4,
 "nbformat_minor": 4
}
