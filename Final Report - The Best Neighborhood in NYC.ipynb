{
    "cells": [
        {
            "cell_type": "markdown",
            "metadata": {},
            "source": "# Final Report | The Best Neighborhood in New York City\nFlorence Pernia Del Rosario"
        },
        {
            "cell_type": "markdown",
            "metadata": {},
            "source": "## 1. Introduction\n"
        },
        {
            "cell_type": "markdown",
            "metadata": {},
            "source": "#### 1.1 Background Information\n\nMoving to a new city or country is always intimidating, and people may be unsure of their choice of neighborhood to live in. There is a plethora of decision variables one has to consider when choosing the perfect neighborhood. It could be the place interests, food locations, crime rates, housing prices etc. \n\nThe purpose of this report is to allow people to make smarter and more informed decisions when selecting the neighborhood that is best fit with their interests, budgets and concerns.\n\nWith access to databases available on the internet, we are able to extract information relevant to our places of interest. In this project, we will be making use of database website such as Foursquare and other relevant OpenData websites for the information we need. In the end of this report, we should be able to confidently recommend the best neighborhoods in New York City.\n\n"
        },
        {
            "cell_type": "markdown",
            "metadata": {},
            "source": "#### 1.2 Location of Choice\nIn this report, we our focal point will be The Big Apple, New York City. New York City is one the most ethnically diverse, commercially driven and most attractive urban centre in the country. It is not a shock that people would wish to shift to this bustling city. The main purpose of this project is to suggest the best neighborhoods in the city for someone shifting to this state.\n"
        },
        {
            "cell_type": "markdown",
            "metadata": {},
            "source": "#### 1.3 Target Audience:\nThe target audience of this project are people migrating to the state of New York City, and are unsure of the neighborhood to buy a property at. These would mainly be people who wish to save as much as they can, but still live wish to enjoy a good lifestyle and ensure their security in their new homes."
        },
        {
            "cell_type": "markdown",
            "metadata": {},
            "source": "## 2. Data"
        },
        {
            "cell_type": "markdown",
            "metadata": {},
            "source": "This project makes use of data from four different sources to support our analysis. "
        },
        {
            "cell_type": "markdown",
            "metadata": {},
            "source": "#### 2.1 Neighborhood Coordinates:\nIn order to segment and explore the neighborhoods, we can extract the data of New York City neighborhoods from the [NYU Spatial Data Repository](https://geo.nyu.edu/catalog/nyu_2451_34572). Here, we can obtain:\n\n1. Borough\n2. Neighborhood\n3. Latitude\n4. Longitude\n\n#### 2.2 Venues and Places of Interest:\nOne important decision variable of people would be the places of interest around the neighborhood. This can be obtained from the FourSquare API. For each neighborhood, we have chosen a radius of 500 meter. We will be obtaining:\n\n1. Neighborhood\n2. Neighborhood Latitude\n3. Neighborhood Longitude\n4. Venue\n5. Venue Latitude\n6. Venue Longitude\n7. Venue Category\n\n#### 2.3 Subsidized Housing Prices:\nThe prices of properties is a major factor in one's decision in moving into a neighborhood. Thus, I extracted this data from [CoreData.nyc](http://app.coredata.nyc/?mlb=true&ntii=&ntr=&mz=14&vtl=https%3A%2F%2Fthefurmancenter.carto.com%2Fu%2Fnyufc%2Fapi%2Fv2%2Fviz%2F98d1f16e-95fd-4e52-a2b1-b7abaf634828%2Fviz.json&mln=false&mlp=true&mlat=40.718&ptsb=&nty=&mb=roadmap&pf=%7B%7D&md=table&mlv=false&mlng=-73.996&btl=Borough&atp=properties) to facilitate in our analysis. We do not require all columns from this dataset. Thus, this will be cleaned and we will only be obtaining:\n\n1. boro_name\n2. accessed_value\n3. res_unit\n\n#### 2.4 Crime Data:\nAnother major deciding factor for many residents are crimes rates within the area. Thus, I have retrieved the NYPD complaints dataset from [NYC OpenData](https://data.cityofnewyork.us/Public-Safety/Crime-Map-/5jvd-shfj). This is a very large dataset, consisting of 108058 rows, thus we reduced this to be able to work with the data easier. \n\nThis will give us a basic overview of crimes in boroughs in overall. We do not require all columns from this dataset as well, and thus, will also be cleaned. We will only need:\n\n1. BORO_NM\n2. Latitude\n3. Longitude"
        },
        {
            "cell_type": "markdown",
            "metadata": {},
            "source": "## 3. Methodology"
        },
        {
            "attachments": {},
            "cell_type": "markdown",
            "metadata": {},
            "source": "#### 3.1 Geocoders:\nThis project required the latitude and longitude coordinates of New York City and it's multiple Boroughs in our data analysis and visualizations. The  Geocoders Nomatim function allowed for ease and accurate retrieval of these necessary coordinates.\n\n![Geocoder](https://github.com/florencedelros/IBM-Capstone-Project/blob/master/Final%20Project/Images/Screenshot%202020-06-08%20at%203.46.26%20PM.png?raw=true)"
        },
        {
            "attachments": {},
            "cell_type": "markdown",
            "metadata": {},
            "source": " #### 3.2 Folium:\n All clustering and bubble map visualization was done with the help of Folium to generate a map using OpenStreetMap technology. With the add circle markers function, I was able to represent clusters in differing colours, as well as different circle radius to represent the magnitude of the data.\n \n **Different Radius**\n ![Folium](https://github.com/florencedelros/IBM-Capstone-Project/blob/master/Final%20Project/Images/Screenshot%202020-06-08%20at%203.46.54%20PM.png?raw=true)\n \n **Different Colours**\n  ![Folium](https://github.com/florencedelros/IBM-Capstone-Project/blob/master/Final%20Project/Images/Screenshot%202020-06-08%20at%203.47.07%20PM.png?raw=true)"
        },
        {
            "cell_type": "markdown",
            "metadata": {},
            "source": "#### 3.3 Bar Chart Sub-Plot:\nWe made use of a 2 way Bar Chart Sub-Plots to compare the analysis for our Crime Data and Housing Data. This allowed us to see our data clraly in one plane, which aids in the comparison we needed to conduct.\n\n![Folium](https://github.com/florencedelros/IBM-Capstone-Project/blob/master/Final%20Project/Images/subplot.png?raw=true)"
        },
        {
            "cell_type": "markdown",
            "metadata": {},
            "source": "#### 3.4 FourSquare API:\nOne major decision variable in choosing the best neighborhood was the venue categories in its vicinity. The FourSquare API enabled us to retrieve this dataset matching the neighborhood data we already have.\n\n![Folium](https://github.com/florencedelros/IBM-Capstone-Project/blob/master/Final%20Project/Images/foursquare%20api.png?raw=true)"
        },
        {
            "cell_type": "markdown",
            "metadata": {},
            "source": "#### 3.5 One-Hot Coding:\nOne-Hot Coding is a process which converts data into dummy variables, assigned a 1 or 0. This was a necessary step in listing the top 5 most common venues in each neighborhoods, as well as our clustering process.\n\n![Folium](https://github.com/florencedelros/IBM-Capstone-Project/blob/master/Final%20Project/Images/one-hot%20coding.png?raw=true)"
        },
        {
            "cell_type": "markdown",
            "metadata": {},
            "source": "#### 3.6 K-Means Clustering:\nWe needed to find similarities within the neighborhood datset, and not base our recommendation only based on the largest amount of venues within the vicinity. Thus, to form these clusters, we trained and made use of the K-Means Algorithm.\n\n![Folium](https://github.com/florencedelros/IBM-Capstone-Project/blob/master/Final%20Project/Images/Kmeans%20Clustering.png?raw=true)"
        },
        {
            "cell_type": "markdown",
            "metadata": {},
            "source": "#### 3.7 Top Venue Categories in each Cluster:\nThe variety and category of venues is also an important aspect in our analysis in choosing the best venue. Thus, we analysed the characteristics of these clusters according to the kinds of categories it has.\n\n![Folium](https://github.com/florencedelros/IBM-Capstone-Project/blob/master/Final%20Project/Images/Top%20VenueCat.png?raw=true)"
        },
        {
            "cell_type": "markdown",
            "metadata": {},
            "source": "## 4. Results"
        },
        {
            "cell_type": "markdown",
            "metadata": {},
            "source": "#### Crime Numbers in all 5 Boroughs :\n![Foium](https://github.com/florencedelros/IBM-Capstone-Project/blob/master/Final%20Project/Images/Screenshot%202020-06-08%20at%203.26.24%20PM.png?raw=true)\n<center> Figure 4.1</center>\n"
        },
        {
            "cell_type": "markdown",
            "metadata": {},
            "source": "#### Subsidized Housing Prices in all 5 Boroughs :\n![Foium](https://github.com/florencedelros/IBM-Capstone-Project/blob/master/Final%20Project/Images/Housing%20Prices.png?raw=true)\n<center> Figure 4.2</center>\n"
        },
        {
            "cell_type": "markdown",
            "metadata": {},
            "source": "#### Comparison of the Crime Numbers and Housing Prices :\n![Foium](https://github.com/florencedelros/IBM-Capstone-Project/blob/master/Final%20Project/Images/barplotsubplot.png?raw=true)\n<center> Figure 4.3</center>\n\n"
        },
        {
            "attachments": {},
            "cell_type": "markdown",
            "metadata": {},
            "source": "#### Staten Island Clusters :\n![Foium](https://github.com/florencedelros/IBM-Capstone-Project/blob/master/Final%20Project/Images/Statencluster.png?raw=true)\n<center> Figure 4.4</center>\n\n![Foium](https://github.com/florencedelros/IBM-Capstone-Project/blob/master/Final%20Project/Images/staten%200.png?raw=true)\n<center> Cluster 0</center>\n\n![Foium](https://github.com/florencedelros/IBM-Capstone-Project/blob/master/Final%20Project/Images/Staten%203.png?raw=true) \n<center> Cluster 3</center>\n"
        },
        {
            "attachments": {},
            "cell_type": "markdown",
            "metadata": {},
            "source": "#### Bronx Clusters :\n![Foium](https://github.com/florencedelros/IBM-Capstone-Project/blob/master/Final%20Project/Images/Statencluster.png?raw=true)\n<center> Figure 4.5</center>\n\n![Foium](https://github.com/florencedelros/IBM-Capstone-Project/blob/master/Final%20Project/Images/staten%200.png?raw=true)\n<center> Cluster 1</center>\n\n![Foium](https://github.com/florencedelros/IBM-Capstone-Project/blob/master/Final%20Project/Images/Staten%203.png?raw=true) \n<center> Cluster 2</center>"
        },
        {
            "cell_type": "markdown",
            "metadata": {},
            "source": "## 5. Discussion"
        },
        {
            "cell_type": "markdown",
            "metadata": {},
            "source": "#### Cutting down of Boroughs by Looking at the Crime and Housing Prices results:"
        },
        {
            "cell_type": "markdown",
            "metadata": {},
            "source": "The results above shows the workflow of how we were able to get the best neighborhoods in New York City. We cut down the Boroughs by looking at the Boroughs that retirned the least values for the its crime numbers (Figure 4.1) and Housing Prices (Figure 4.2). Our target audience moving into the state would likely prefer to live in a neighborhood that had the lowest crime rates and housing prices. "
        },
        {
            "cell_type": "markdown",
            "metadata": {},
            "source": "As seen in the Bar Graph Sub-Plot (Figure 4.3) can see a common pattern and the 3 lowest ranking Boroughs are similar: **Staten Island, Queens and Bronx**. Although this does not cut down our choices, this clearly affirms that the top 3 best boroughs in terms of safety and housing prices are the ones stated above."
        },
        {
            "cell_type": "markdown",
            "metadata": {},
            "source": "However, to futher deep dive into our analysis, we should consider the different priorities of different groups of migrants. Some may place more importance on lower prices, and others may be greater safety. Thus, we will divide our recommendations for 2 groups of people:\n\n* **Staten Island**: Safety Concious\n* **Bronx**: Price Concious"
        },
        {
            "cell_type": "markdown",
            "metadata": {},
            "source": "#### The last criteria we need to look at is Venues within the cluster of neighborhoods:"
        },
        {
            "cell_type": "markdown",
            "metadata": {},
            "source": "We would not know the preference of individual people or families migrating, whether they wish to have more parks in the vicinity or food places. With this, we will  judge the neighborhoods in terms of the most venues within the clusters, and next the variety of venue categories in those chosen clusters. This will ensure that the migrants will have a relatively good lifestyle around the neighborhood and will cater to a variety of their needs."
        },
        {
            "cell_type": "markdown",
            "metadata": {},
            "source": "**For Staten Island:**\n\nIn Figure 4.4 , we can observe that Cluster 0 is mainly a Food District, while Cluster 3, although has a lot of food places, also has a greater variety of venues such as Grocery stores, Pharmacy and Banks. This will be greatly convinient when moving into a new area. Thus, the best neighborhoods in Staten Island are from Cluster 3, which are:\n1. West Brighton\n2. Etingville\n3. New Springville\n\n**For Bronx:**\n\nIn Figure 4.5 , it is clear that the variety of Venues in both clusters is extremely similar and will both provide a relatively good lifestyle for the migrants. Thus, we judged the best neighborhood using the most venue actegories within the vicinity, which is Cluster 2. The top 3 neighborhoods are: \n1. Belmont\n2. Fordham\n3. Kingsbridge"
        },
        {
            "cell_type": "markdown",
            "metadata": {},
            "source": "## 6. Conclusion"
        },
        {
            "cell_type": "markdown",
            "metadata": {},
            "source": "The neighbourhoods West Brighton, Etingville and New Springville of **Staten Island**, as well as Belmont, Fordman and Kingsbridge of the **Bronx** are the bext neighborhoods in New York City."
        },
        {
            "cell_type": "markdown",
            "metadata": {},
            "source": "These boroughs cater to a variety of people and their concerns, whether they are money concious or wary of their safety. The neighborhoods further caters to people's interest and preferences, in terms venue categories. This will give them greater flexibility in the new area they wish to live in."
        },
        {
            "cell_type": "markdown",
            "metadata": {},
            "source": "Overall, I feel highly proud that I was able to apply and reinforce the knowledge and skills I have learnt throughout these 9 courses in IBM Data Science Course. This project has not only shown me the practical application to be able to analyse and resolve problems with Data Science tools, but also how personal, social and financial data impacts our analysis and recommendations."
        }
    ],
    "metadata": {
        "kernelspec": {
            "display_name": "Python 3.6",
            "language": "python",
            "name": "python3"
        },
        "language_info": {
            "codemirror_mode": {
                "name": "ipython",
                "version": 3
            },
            "file_extension": ".py",
            "mimetype": "text/x-python",
            "name": "python",
            "nbconvert_exporter": "python",
            "pygments_lexer": "ipython3",
            "version": "3.6.9"
        }
    },
    "nbformat": 4,
    "nbformat_minor": 1
}